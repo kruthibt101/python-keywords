{
 "cells": [
  {
   "cell_type": "markdown",
   "id": "a0e591f3-5722-4664-9c91-b42818bb5243",
   "metadata": {},
   "source": [
    "#assignment\n",
    "1.Explain the significance of Python keywords and provide examples of five keywords\n",
    "Python Keywords are some predefined and reserved words in Python that have special meanings. Keywords  are used define the Syntax of the coding. The keyword cannot be used as an identifier, function, or variable name."
   ]
  },
  {
   "cell_type": "code",
   "execution_count": 1,
   "id": "adfbd7b8-0626-498f-913b-5e79f42695c5",
   "metadata": {},
   "outputs": [
    {
     "name": "stdout",
     "output_type": "stream",
     "text": [
      "lesser\n"
     ]
    }
   ],
   "source": [
    "a = 4\n",
    "if a<5:\n",
    "    print(\"lesser\")"
   ]
  },
  {
   "cell_type": "code",
   "execution_count": 2,
   "id": "8ebc1072-840d-4564-88ce-dd88fa599f80",
   "metadata": {},
   "outputs": [
    {
     "data": {
      "text/plain": [
       "False"
      ]
     },
     "execution_count": 2,
     "metadata": {},
     "output_type": "execute_result"
    }
   ],
   "source": [
    "p = 8\n",
    "not p"
   ]
  },
  {
   "cell_type": "code",
   "execution_count": 4,
   "id": "7c33b099-0bf5-4bcb-a98e-9b41bfb15fb8",
   "metadata": {},
   "outputs": [
    {
     "data": {
      "text/plain": [
       "False"
      ]
     },
     "execution_count": 4,
     "metadata": {},
     "output_type": "execute_result"
    }
   ],
   "source": [
    "True and False"
   ]
  },
  {
   "cell_type": "code",
   "execution_count": 5,
   "id": "2b804250-06cd-4248-97f4-228f63f53132",
   "metadata": {},
   "outputs": [
    {
     "data": {
      "text/plain": [
       "False"
      ]
     },
     "execution_count": 5,
     "metadata": {},
     "output_type": "execute_result"
    }
   ],
   "source": [
    "False or False"
   ]
  },
  {
   "cell_type": "markdown",
   "id": "7b4bb80c-aff3-4d4e-8e6d-3c75295a54a4",
   "metadata": {},
   "source": [
    "2.Describe the rules for defining identifiers in Python and provide an example\n",
    " a.Identifiers cannot be a keyword.\n",
    "b.Identifiers are case-sensitive.\n",
    "c.It can have a sequence of letters and digits. ...\n",
    "d.It's a convention to start an identifier with a letter rather _ \n",
    "e.Whitespaces are not allowed.\n",
    "f.We cannot use special symbols like !, @, #, $, and so on.\n"
   ]
  },
  {
   "cell_type": "code",
   "execution_count": null,
   "id": "21e86f60-2042-4462-90ee-100f742cf3dd",
   "metadata": {},
   "outputs": [],
   "source": [
    "#ex for valid\n",
    "Krushi\n",
    "return_value\n",
    "\n",
    "#ex for invalid\n",
    "kruthi\n",
    "retrunvalue\n",
    "@score"
   ]
  },
  {
   "cell_type": "markdown",
   "id": "8e6fcb71-9dec-4dc1-ba05-d3ed071793d5",
   "metadata": {},
   "source": [
    "3.What are comments in Python, and why are they usefull Provide an example"
   ]
  },
  {
   "cell_type": "code",
   "execution_count": null,
   "id": "94b72bd2-de30-4451-8136-31c54dec4bf4",
   "metadata": {},
   "outputs": [],
   "source": [
    "Python comments are simple sentences that we use to make the code easier to understand. They explain your way of thinking and describe every step that you take to solve a coding problem. These sentences are not read by the Python interpreter when it executes the code.\n",
    " example:\n",
    " # declare a variable\n",
    "name = 'John'\n",
    "\n",
    "# print name\n",
    "print(name)    # John"
   ]
  },
  {
   "cell_type": "markdown",
   "id": "fe00f86a-cf1d-47fb-b224-fbb3495f1059",
   "metadata": {},
   "source": [
    "4.Why is proper indentation important in Python.\n",
    "\n",
    "The primary purpose of indentation in Python is to define the scope of statements, such as those within loops, conditionals, functions, and classes. Consistent and proper indentation is crucial for the interpreter to understand the logical structure of the code."
   ]
  },
  {
   "cell_type": "markdown",
   "id": "74fc78d8-3521-425b-ac5b-408332059959",
   "metadata": {},
   "source": [
    "5. What happens if indentation is incorrect in Python\n",
    "In Python, all the code that you type is arranged via correct whitespaces and therefore if at any instance you have a bad indentation, the overall code will not run and the interpreter will simply return an error function.\n",
    "An Indentation error is a compile-time error that occurs when tabs or spaces in a code do not follow expected patterns. This is typically a syntax error. Indentation Error is a very common error in Python. Because Python is an interpreted language, its interpreter reads the code line by line."
   ]
  },
  {
   "cell_type": "markdown",
   "id": "54eea902-1ec0-4af8-92a5-a19a204ac956",
   "metadata": {},
   "source": [
    "6.Differentiate 0etween expression and statement in Python with examples\n",
    "expressions are used to produce new values, \n",
    "A statement in Python is used for creating variables or for displaying values. \n",
    "example for expression:For example any string is also an expressions since it represents the value of the string as well.\n",
    "example for statement:"
   ]
  },
  {
   "cell_type": "code",
   "execution_count": null,
   "id": "20f4df99-eed8-42f2-a596-bd9ef3d9fd18",
   "metadata": {},
   "outputs": [],
   "source": []
  },
  {
   "cell_type": "code",
   "execution_count": null,
   "id": "012ccf50-2f78-4e73-b812-acbd622645e8",
   "metadata": {},
   "outputs": [],
   "source": []
  },
  {
   "cell_type": "code",
   "execution_count": null,
   "id": "ab945739-c709-4907-b518-8c975960d51e",
   "metadata": {},
   "outputs": [],
   "source": []
  }
 ],
 "metadata": {
  "kernelspec": {
   "display_name": "Python 3 (ipykernel)",
   "language": "python",
   "name": "python3"
  },
  "language_info": {
   "codemirror_mode": {
    "name": "ipython",
    "version": 3
   },
   "file_extension": ".py",
   "mimetype": "text/x-python",
   "name": "python",
   "nbconvert_exporter": "python",
   "pygments_lexer": "ipython3",
   "version": "3.10.8"
  }
 },
 "nbformat": 4,
 "nbformat_minor": 5
}
